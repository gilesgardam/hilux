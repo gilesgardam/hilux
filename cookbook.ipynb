{
 "cells": [
  {
   "cell_type": "markdown",
   "metadata": {},
   "source": [
    "# GAP cookbook\n",
    "\n",
    "These are various recipes I use. Due to my tastes, they tend to have a combinatorial / geometric group theory flavour.\n",
    "\n",
    "## Free Groups\n",
    "\n",
    "### Get the free group from an element of the free group"
   ]
  },
  {
   "cell_type": "code",
   "execution_count": 3,
   "metadata": {},
   "outputs": [
    {
     "data": {
      "text/plain": [
       "<group with 2 generators>"
      ]
     },
     "execution_count": 3,
     "metadata": {
      "text/plain": ""
     },
     "output_type": "execute_result"
    }
   ],
   "source": [
    "F := FreeGroup(\"a\", \"b\");;\n",
    "w := F.1;;\n",
    "FamilyObj(w)!.freeGroup;"
   ]
  },
  {
   "cell_type": "markdown",
   "metadata": {},
   "source": [
    "### Get the free group of an FpGroup"
   ]
  },
  {
   "cell_type": "code",
   "execution_count": 5,
   "metadata": {},
   "outputs": [
    {
     "data": {
      "text/plain": [
       "<group with 2 generators>"
      ]
     },
     "execution_count": 5,
     "metadata": {
      "text/plain": ""
     },
     "output_type": "execute_result"
    }
   ],
   "source": [
    "G := F / [Comm(F.1, F.2)];;\n",
    "FreeGroupOfFpGroup(G);"
   ]
  },
  {
   "cell_type": "markdown",
   "metadata": {},
   "source": [
    "## KBMAG\n",
    "\n",
    "### Compute a presentation of a (quasi-convex) subgroup\n",
    "We find a genus 2 surface in the pentagon RAAG (see Röver, Claas E. On subgroups of the pentagon group. Math. Proc. R. Ir. Acad. 107 (2007), no. 1, 11–13 [MR2289796](https://mathscinet.ams.org/mathscinet-getitem?mr=2289796).)"
   ]
  },
  {
   "cell_type": "code",
   "execution_count": 17,
   "metadata": {
    "collapsed": true
   },
   "outputs": [
    {
     "name": "stdout",
     "output_type": "stream",
     "text": [
      "#I  Assigned the global variables [ x1, x2, x3, x4, x5 ]\n"
     ]
    },
    {
     "data": {
      "text/plain": [
       "true"
      ]
     },
     "execution_count": 6,
     "metadata": {
      "text/plain": ""
     },
     "output_type": "execute_result"
    },
    {
     "data": {
      "text/plain": [
       "<group with 5 generators>"
      ]
     },
     "execution_count": 7,
     "metadata": {
      "text/plain": ""
     },
     "output_type": "execute_result"
    },
    {
     "data": {
      "text/plain": [
       "<group with 5 generators>"
      ]
     },
     "execution_count": 9,
     "metadata": {
      "text/plain": ""
     },
     "output_type": "execute_result"
    },
    {
     "data": {
      "text/plain": [
       "<object>"
      ]
     },
     "execution_count": 10,
     "metadata": {
      "text/plain": ""
     },
     "output_type": "execute_result"
    },
    {
     "data": {
      "text/plain": [
       "<object>"
      ]
     },
     "execution_count": 11,
     "metadata": {
      "text/plain": ""
     },
     "output_type": "execute_result"
    },
    {
     "data": {
      "text/plain": [
       "<object>"
      ]
     },
     "execution_count": 12,
     "metadata": {
      "text/plain": ""
     },
     "output_type": "execute_result"
    },
    {
     "data": {
      "text/plain": [
       "[ x3*x1, x4*x2, x5^-1*x3*x1*x5, x5^-1*x4*x2*x5 ]"
      ]
     },
     "execution_count": 13,
     "metadata": {
      "text/plain": ""
     },
     "output_type": "execute_result"
    },
    {
     "data": {
      "text/plain": [
       "<object>"
      ]
     },
     "execution_count": 14,
     "metadata": {
      "text/plain": ""
     },
     "output_type": "execute_result"
    },
    {
     "data": {
      "text/plain": [
       "<object>"
      ]
     },
     "execution_count": 15,
     "metadata": {
      "text/plain": ""
     },
     "output_type": "execute_result"
    },
    {
     "data": {
      "text/plain": [
       "true"
      ]
     },
     "execution_count": 16,
     "metadata": {
      "text/plain": ""
     },
     "output_type": "execute_result"
    },
    {
     "data": {
      "text/plain": [
       "<group of size infinity with 4 generators>"
      ]
     },
     "execution_count": 17,
     "metadata": {
      "text/plain": ""
     },
     "output_type": "execute_result"
    }
   ],
   "source": [
    "LoadPackage(\"kbmag\");\n",
    "F := FreeGroup(5, \"x\");\n",
    "AssignGeneratorVariables(F);\n",
    "G := F / [Comm(x1, x2), Comm(x2, x3), Comm(x3, x4), Comm(x4, x5), Comm(x5, x1)];\n",
    "u := x3 * x1;\n",
    "v := x4 * x2;\n",
    "t := x5;\n",
    "gens := [u, v, u^t, v^t];\n",
    "\n",
    "rws := KBMAGRewritingSystem(G);\n",
    "S := SubgroupOfKBMAGRewritingSystem(rws, gens);\n",
    "AutomaticStructureOnCosetsWithSubgroupPresentation(rws, S, true, true);\n",
    "P := PresentationOfSubgroupOfKBMAGRewritingSystem(rws, S);"
   ]
  },
  {
   "cell_type": "code",
   "execution_count": 18,
   "metadata": {},
   "outputs": [
    {
     "name": "stdout",
     "output_type": "stream",
     "text": [
      "generators = [ f1, f2, f5, f7 ]\n",
      "relators = [\n",
      " f7*f1*f2*f1^-1*f5^-1*f2^-1*f7^-1*f5 ]\n"
     ]
    }
   ],
   "source": [
    "Display(P);"
   ]
  }
 ],
 "metadata": {
  "kernelspec": {
   "display_name": "GAP 4",
   "language": "gap",
   "name": "gap-4"
  },
  "language_info": {
   "codemirror_mode": "gap",
   "file_extension": ".g",
   "mimetype": "text/x-gap",
   "name": "GAP 4",
   "nbconvert_exporter": "",
   "pygments_lexer": "gap",
   "version": "4.9.3"
  }
 },
 "nbformat": 4,
 "nbformat_minor": 2
}
