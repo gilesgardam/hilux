{
 "cells": [
  {
   "cell_type": "markdown",
   "metadata": {},
   "source": [
    "# GAP cookbook\n",
    "\n",
    "These are various recipes I use. Due to my tastes, they tend to have a combinatorial / geometric group theory flavour.\n",
    "\n",
    "## Free Groups\n",
    "\n",
    "### Get the free group from an element of the free group"
   ]
  },
  {
   "cell_type": "code",
   "execution_count": 3,
   "metadata": {},
   "outputs": [
    {
     "data": {
      "text/plain": [
       "<group with 2 generators>"
      ]
     },
     "execution_count": 3,
     "metadata": {
      "text/plain": ""
     },
     "output_type": "execute_result"
    }
   ],
   "source": [
    "F := FreeGroup(\"a\", \"b\");;\n",
    "w := F.1;;\n",
    "FamilyObj(w)!.freeGroup;"
   ]
  },
  {
   "cell_type": "markdown",
   "metadata": {},
   "source": [
    "### Get the free group of an FpGroup"
   ]
  },
  {
   "cell_type": "code",
   "execution_count": 5,
   "metadata": {},
   "outputs": [
    {
     "data": {
      "text/plain": [
       "<group with 2 generators>"
      ]
     },
     "execution_count": 5,
     "metadata": {
      "text/plain": ""
     },
     "output_type": "execute_result"
    }
   ],
   "source": [
    "G := F / [Comm(F.1, F.2)];;\n",
    "FreeGroupOfFpGroup(G);"
   ]
  },
  {
   "cell_type": "markdown",
   "metadata": {},
   "source": [
    "### Construct the group $\\mathbb{Z}$\n",
    "This is not ideal but it works and is what `CyclicGroup(infinity)` gives you. (Note that `Z` is reserved.)"
   ]
  },
  {
   "cell_type": "code",
   "execution_count": 6,
   "metadata": {},
   "outputs": [
    {
     "data": {
      "text/plain": [
       "<group with 1 generators>"
      ]
     },
     "execution_count": 6,
     "metadata": {
      "text/plain": ""
     },
     "output_type": "execute_result"
    }
   ],
   "source": [
    "ZZ := FreeGroup(1);"
   ]
  },
  {
   "cell_type": "markdown",
   "metadata": {},
   "source": [
    "## Finitely presented groups\n",
    "### Enumerate low index subgroups and compute their normal cores"
   ]
  },
  {
   "cell_type": "code",
   "execution_count": 11,
   "metadata": {},
   "outputs": [
    {
     "name": "stdout",
     "output_type": "stream",
     "text": [
      "[ 3, 3, \"C3\" ]\n",
      "[ 4, 24, \"S4\" ]\n",
      "[ 3, 6, \"S3\" ]\n",
      "[ 5, 60, \"A5\" ]\n",
      "[ 2, 2, \"C2\" ]\n",
      "[ 4, 12, \"A4\" ]\n",
      "[ 5, 5, \"C5\" ]\n",
      "[ 4, 4, \"C4\" ]\n"
     ]
    }
   ],
   "source": [
    "F := FreeGroup(\"a\", \"b\");;\n",
    "a := F.1;; b := F.2;;\n",
    "G := F / [a^2 * b^3];;\n",
    "for H in LowIndexSubgroupsFpGroup(G, 5) do\n",
    "    if H = G then\n",
    "        continue; # skip since we cannot compute Image(fca) below in this case\n",
    "    fi;\n",
    "    fca := FactorCosetAction(G, H);;\n",
    "    N := Kernel(fca);;\n",
    "    Display([Index(G, H), Index(G, N), StructureDescription(Image(fca))]);;\n",
    "od;"
   ]
  },
  {
   "cell_type": "markdown",
   "metadata": {},
   "source": [
    "## KBMAG\n",
    "\n",
    "### Compute a presentation of a (quasi-convex) subgroup\n",
    "We find a genus 2 surface in the pentagon RAAG (see Röver, Claas E. On subgroups of the pentagon group. Math. Proc. R. Ir. Acad. 107 (2007), no. 1, 11–13 [MR2289796](https://mathscinet.ams.org/mathscinet-getitem?mr=2289796).)"
   ]
  },
  {
   "cell_type": "code",
   "execution_count": 23,
   "metadata": {
    "collapsed": true
   },
   "outputs": [
    {
     "name": "stdout",
     "output_type": "stream",
     "text": [
      "#I  Assigned the global variables [ x1, x2, x3, x4, x5 ]\n"
     ]
    },
    {
     "data": {
      "text/plain": [
       "true"
      ]
     },
     "execution_count": 12,
     "metadata": {
      "text/plain": ""
     },
     "output_type": "execute_result"
    },
    {
     "data": {
      "text/plain": [
       "<group with 5 generators>"
      ]
     },
     "execution_count": 13,
     "metadata": {
      "text/plain": ""
     },
     "output_type": "execute_result"
    },
    {
     "data": {
      "text/plain": [
       "<group with 5 generators>"
      ]
     },
     "execution_count": 15,
     "metadata": {
      "text/plain": ""
     },
     "output_type": "execute_result"
    },
    {
     "data": {
      "text/plain": [
       "<object>"
      ]
     },
     "execution_count": 16,
     "metadata": {
      "text/plain": ""
     },
     "output_type": "execute_result"
    },
    {
     "data": {
      "text/plain": [
       "<object>"
      ]
     },
     "execution_count": 17,
     "metadata": {
      "text/plain": ""
     },
     "output_type": "execute_result"
    },
    {
     "data": {
      "text/plain": [
       "<object>"
      ]
     },
     "execution_count": 18,
     "metadata": {
      "text/plain": ""
     },
     "output_type": "execute_result"
    },
    {
     "data": {
      "text/plain": [
       "[ x3*x1, x4*x2, x5^-1*x3*x1*x5, x5^-1*x4*x2*x5 ]"
      ]
     },
     "execution_count": 19,
     "metadata": {
      "text/plain": ""
     },
     "output_type": "execute_result"
    },
    {
     "data": {
      "text/plain": [
       "<object>"
      ]
     },
     "execution_count": 20,
     "metadata": {
      "text/plain": ""
     },
     "output_type": "execute_result"
    },
    {
     "data": {
      "text/plain": [
       "<object>"
      ]
     },
     "execution_count": 21,
     "metadata": {
      "text/plain": ""
     },
     "output_type": "execute_result"
    },
    {
     "data": {
      "text/plain": [
       "true"
      ]
     },
     "execution_count": 22,
     "metadata": {
      "text/plain": ""
     },
     "output_type": "execute_result"
    },
    {
     "data": {
      "text/plain": [
       "<group of size infinity with 4 generators>"
      ]
     },
     "execution_count": 23,
     "metadata": {
      "text/plain": ""
     },
     "output_type": "execute_result"
    }
   ],
   "source": [
    "LoadPackage(\"kbmag\");\n",
    "F := FreeGroup(5, \"x\");\n",
    "AssignGeneratorVariables(F);\n",
    "G := F / [Comm(x1, x2), Comm(x2, x3), Comm(x3, x4), Comm(x4, x5), Comm(x5, x1)];\n",
    "u := x3 * x1;\n",
    "v := x4 * x2;\n",
    "t := x5;\n",
    "gens := [u, v, u^t, v^t];\n",
    "\n",
    "rws := KBMAGRewritingSystem(G);\n",
    "S := SubgroupOfKBMAGRewritingSystem(rws, gens);\n",
    "AutomaticStructureOnCosetsWithSubgroupPresentation(rws, S, true, true);\n",
    "P := PresentationOfSubgroupOfKBMAGRewritingSystem(rws, S);"
   ]
  },
  {
   "cell_type": "code",
   "execution_count": 24,
   "metadata": {},
   "outputs": [
    {
     "name": "stdout",
     "output_type": "stream",
     "text": [
      "generators = [ f1, f2, f5, f7 ]\n",
      "relators = [\n",
      " f7*f1*f2*f1^-1*f5^-1*f2^-1*f7^-1*f5 ]\n"
     ]
    }
   ],
   "source": [
    "Display(P);"
   ]
  },
  {
   "cell_type": "markdown",
   "metadata": {},
   "source": [
    "## Permutation groups\n",
    "### Get the identifier for a transitive permutation group\n",
    "This uniquely identifies it up to \"isomorphism of permutation groups\" a.k.a. conjugacy in $S_n$ (but actually also works if you're acting on a different set than $\\{1, 2, \\dots, n\\}$) when taken together with the degree."
   ]
  },
  {
   "cell_type": "code",
   "execution_count": 27,
   "metadata": {},
   "outputs": [
    {
     "data": {
      "text/plain": [
       "2"
      ]
     },
     "execution_count": 27,
     "metadata": {
      "text/plain": ""
     },
     "output_type": "execute_result"
    }
   ],
   "source": [
    "G := Group([(1,2,3,4,5), (2,5)(3,4)]);;\n",
    "LoadPackage(\"TransGrp\");;\n",
    "TransitiveIdentification(G);"
   ]
  },
  {
   "cell_type": "markdown",
   "metadata": {},
   "source": [
    "## GAP Programming\n",
    "### Inspect an object\n",
    "See [Chapter 79](https://www.gap-system.org/Manuals/doc/ref/chap79.html) of the manual."
   ]
  },
  {
   "cell_type": "code",
   "execution_count": 29,
   "metadata": {},
   "outputs": [
    {
     "data": {
      "text/plain": [
       "[ \"TYPES_LIST_FAM\", \"NAME\", \"REQ_FLAGS\", \"IMP_FLAGS\", \"TYPES\", \"nTYPES\", \"HASH_SIZE\", \"CollectionsFamily\", \"names\", \"types\", \"expBitsInfo\", \"expBits\", \"letterWordType\", \"freeGroup\" ]"
      ]
     },
     "execution_count": 29,
     "metadata": {
      "text/plain": ""
     },
     "output_type": "execute_result"
    }
   ],
   "source": [
    "fam := FamilyObj(One(FreeGroup(2)));;\n",
    "NamesOfComponents(fam);"
   ]
  }
 ],
 "metadata": {
  "kernelspec": {
   "display_name": "GAP 4",
   "language": "gap",
   "name": "gap-4"
  },
  "language_info": {
   "codemirror_mode": "gap",
   "file_extension": ".g",
   "mimetype": "text/x-gap",
   "name": "GAP 4",
   "nbconvert_exporter": "",
   "pygments_lexer": "gap",
   "version": "4.9.3"
  }
 },
 "nbformat": 4,
 "nbformat_minor": 2
}
